{
 "cells": [
  {
   "cell_type": "markdown",
   "metadata": {},
   "source": [
    "# Fine-Tuning of CNN models\n",
    "\n",
    "In order to transfer learning from a pre-trained models available in [Keras](https://keras.io/api/applications/) to solve specific problems, this project shows how to apply a famous machine learning technique called **fine-tuning**.\n",
    "\n",
    "**Problem: [Domestic Garbage Detection](https://www.kaggle.com/datasets/farzadnekouei/trash-type-image-dataset/)**\n",
    "\n",
    "## Steps\n",
    "* Import the dataset;\n",
    "* Exploration and preprocessing\n",
    "* Compare 3 (or more) pre-trained models\n",
    "* Evaluating the best model"
   ]
  },
  {
   "cell_type": "markdown",
   "metadata": {},
   "source": [
    "## Importig libraries"
   ]
  },
  {
   "cell_type": "code",
   "execution_count": 1,
   "metadata": {},
   "outputs": [],
   "source": [
    "import os\n",
    "import tensorflow_datasets as tfds\n",
    "import tensorflow as tf\n",
    "import pandas as pd\n",
    "import numpy as np\n",
    "import kagglehub\n",
    "import matplotlib.pyplot as plt\n",
    "\n",
    "from sklearn.metrics import confusion_matrix, accuracy_score, f1_score, precision_score, recall_score\n",
    "from datetime import datetime"
   ]
  },
  {
   "cell_type": "markdown",
   "metadata": {},
   "source": [
    "## Defining general constants"
   ]
  },
  {
   "cell_type": "code",
   "execution_count": 2,
   "metadata": {},
   "outputs": [],
   "source": [
    "BATCH_SIZE=32\n",
    "IMAGE_SIZE=(384, 512)\n",
    "EPOCHS=100\n",
    "SEED=10 \n",
    "\n",
    "CURRENT_PATH = os.getcwd()\n",
    "DATASET_PATH = os.path.join(CURRENT_PATH, 'datasets', 'trash_type_dataset')\n",
    "TRAIN_PATH = os.path.join(DATASET_PATH, 'train')\n",
    "VALIDATION_PATH = os.path.join(DATASET_PATH, 'validation')\n",
    "TEST_PATH = os.path.join(DATASET_PATH, 'test')"
   ]
  },
  {
   "cell_type": "markdown",
   "metadata": {},
   "source": [
    "## Importing dataset"
   ]
  },
  {
   "cell_type": "code",
   "execution_count": 3,
   "metadata": {},
   "outputs": [],
   "source": [
    "def import_dataset(dataset_path: str, batch_size: int = None, optimize = True):\n",
    "    dataset = tf.keras.utils.image_dataset_from_directory(dataset_path,\n",
    "                                                        labels='inferred',\n",
    "                                                        label_mode='int',\n",
    "                                                        batch_size=batch_size,\n",
    "                                                        image_size=IMAGE_SIZE)\n",
    "    if optimize:\n",
    "        dataset = dataset.prefetch(tf.data.AUTOTUNE)\n",
    "    return dataset\n",
    "\n",
    "def import_datasets():\n",
    "    print(f\"[INFO] Importing training dataset from {TRAIN_PATH}\")\n",
    "    train_dataset = import_dataset(TRAIN_PATH, BATCH_SIZE)\n",
    "\n",
    "    print(f\"[INFO] Importing validation dataset from {VALIDATION_PATH}\")\n",
    "    validation_dataset = import_dataset(VALIDATION_PATH, BATCH_SIZE)\n",
    "\n",
    "    print(f\"[INFO] Importing test dataset from {TEST_PATH}\")\n",
    "    test_dataset = import_dataset(TEST_PATH, batch_size=None, optimize=False)\n",
    "\n",
    "    return train_dataset, validation_dataset, test_dataset"
   ]
  },
  {
   "cell_type": "code",
   "execution_count": 4,
   "metadata": {},
   "outputs": [
    {
     "name": "stdout",
     "output_type": "stream",
     "text": [
      "[INFO] Importing training dataset from c:\\Users\\Gabriel\\OneDrive\\Documentos\\projetos\\gabriel\\fine-tuning-cnns-example\\datasets\\trash_type_dataset\\train\n",
      "Found 1770 files belonging to 6 classes.\n",
      "[INFO] Importing validation dataset from c:\\Users\\Gabriel\\OneDrive\\Documentos\\projetos\\gabriel\\fine-tuning-cnns-example\\datasets\\trash_type_dataset\\validation\n",
      "Found 505 files belonging to 6 classes.\n",
      "[INFO] Importing test dataset from c:\\Users\\Gabriel\\OneDrive\\Documentos\\projetos\\gabriel\\fine-tuning-cnns-example\\datasets\\trash_type_dataset\\test\n",
      "Found 252 files belonging to 6 classes.\n"
     ]
    }
   ],
   "source": [
    "train_dataset, validation_dataset, test_dataset = import_datasets()"
   ]
  },
  {
   "cell_type": "markdown",
   "metadata": {},
   "source": [
    "## Exploring the dataset"
   ]
  },
  {
   "cell_type": "code",
   "execution_count": null,
   "metadata": {},
   "outputs": [],
   "source": []
  },
  {
   "cell_type": "markdown",
   "metadata": {},
   "source": [
    "## Preprocessing"
   ]
  },
  {
   "cell_type": "code",
   "execution_count": null,
   "metadata": {},
   "outputs": [],
   "source": []
  },
  {
   "cell_type": "markdown",
   "metadata": {},
   "source": [
    "## Preparing experiments\n",
    "Models:\n",
    "* EfficientNetB7 \n",
    "* EfficientNetV2S "
   ]
  },
  {
   "cell_type": "code",
   "execution_count": null,
   "metadata": {},
   "outputs": [],
   "source": []
  },
  {
   "cell_type": "markdown",
   "metadata": {},
   "source": [
    "## Training"
   ]
  },
  {
   "cell_type": "code",
   "execution_count": null,
   "metadata": {},
   "outputs": [],
   "source": []
  },
  {
   "cell_type": "markdown",
   "metadata": {},
   "source": [
    "## Evaluating the best experiment"
   ]
  },
  {
   "cell_type": "code",
   "execution_count": null,
   "metadata": {},
   "outputs": [],
   "source": []
  },
  {
   "cell_type": "markdown",
   "metadata": {},
   "source": [
    "## Testing"
   ]
  },
  {
   "cell_type": "code",
   "execution_count": null,
   "metadata": {},
   "outputs": [],
   "source": []
  },
  {
   "cell_type": "markdown",
   "metadata": {},
   "source": [
    "## Conclusion"
   ]
  }
 ],
 "metadata": {
  "kernelspec": {
   "display_name": "ml",
   "language": "python",
   "name": "python3"
  },
  "language_info": {
   "codemirror_mode": {
    "name": "ipython",
    "version": 3
   },
   "file_extension": ".py",
   "mimetype": "text/x-python",
   "name": "python",
   "nbconvert_exporter": "python",
   "pygments_lexer": "ipython3",
   "version": "3.8.18"
  }
 },
 "nbformat": 4,
 "nbformat_minor": 2
}
